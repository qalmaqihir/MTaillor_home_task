{
  "cells": [
    {
      "cell_type": "markdown",
      "metadata": {
        "id": "5Vu93d2olS3m"
      },
      "source": [
        "# Design and Train an object detector to detect objects\n",
        "\n",
        "You have to design and implement a Training Pipeline that can train, test and visualize the model using the dataset provided.\n",
        "\n",
        "## Assignment Protocols\n",
        "\n",
        "- We expect it to take ~4 hours, with an extra 15 min for clear loom explanation(s)\n",
        "  - The assessment is timeboxed at 5 hours total in a single block. So please plan accordingly\n",
        "- You need to use Google Collaboratory to run and edit this notebook\n",
        "- You can only use Python as a programming Language\n",
        "- You cannot take help from any other person\n",
        "- You can use Google to search for references\n",
        "- You can not search on google for design-related things, like what should be loss function, or what should be model architecture.\n",
        "  - But you can use pre-trained backbones from PyTorch\n",
        "- Record a 5-10 mins of code walkthrough of the work you have done. You can use Loom Platform (https://www.loom.com) to record the video.\n",
        "  - Design Decisions\n",
        "    - Model Design which layers and activation functions you used and why\n",
        "    - Loss function, which loss functions you used and why\n",
        "    - Metrics, which metrics and why\n",
        "  - Any optimizations you have made to the codebase\n",
        "  - How you implemented resume functionality, what were the things you thought would be needed to resume training from exact same point\n",
        "  - Explain what parts of the assessment are completed and what is missing?\n",
        "  - Make sure to submit the screen recording link in the submission after you are done recording\n",
        "  - Please note that the free plan on Loom only allows for videos up to 5 minutes in length. As such, you may need to record two separate 5-minute videos.\n",
        "- [NO SUBMISSION WILL BE ACCEPTED WITHOUT]\n",
        "  - Trained best model weights\n",
        "  - Visualize Function in the Notebook\n",
        "  - Code Walk-through video\n",
        "\n",
        "## Task Details\n",
        "Design a Training Pipeline to train a object detector with following specs or assumptions:\n",
        "- Implement & Design Model\n",
        "  - You can use any backbone\n",
        "    - Either from PyTorch (torhvision) or any resource online\n",
        "    - But you need to design head your self (head means how you will use features of the back bone and get the desired outputs)\n",
        "  - Model needs to detect one object in each image\n",
        "  - Model should output following for each image passed as input:\n",
        "    - Whether we have an object or not\n",
        "    - Where is the object?\n",
        "      - The bounding box output format should be xmin, ymin, xmax, ymax\n",
        "      - It is not necessary the model is trained to output exactly this format but the visualize function which shows output should output in this format\n",
        "    - Either the object is a cat or dog?\n",
        "    - And which specie the object belongs to? There are in total 9 species: \n",
        "      - Cat [3 species]:\n",
        "        - Abyssinian\n",
        "        - Birman\n",
        "        - Persian\n",
        "      - Dog [6 species]\n",
        "        - american_bulldog\n",
        "        - american_pit_bull_terrier\n",
        "        - basset_hound\n",
        "        - beagle\n",
        "        - chihuahua\n",
        "        - pomeranian\n",
        "- Implement Custom Dataloader\n",
        "  - This is obvious as dataset is in a unique format any predifined dataloader wont work\n",
        "  - Follow best practices of writing custom dataloaders\n",
        "  - Details of the format of the dataset are defined in the Dataset Details section below\n",
        "  - Add needed pre-processing that you think would help train a better model or would help as we are using pre-trained weights as starting point\n",
        "  - Add augmentations that you think would help train a better model\n",
        "- Implement Loss Function\n",
        "  - Design and implement a loss function that can handle all of the outputs we have\n",
        "  - You can use pytorch built-in loss functions\n",
        "  - There are many scenarios which you need to handle, which one can understand from the dataset details and the model design\n",
        "- Implement Test Function\n",
        "  - The test function should be able to run the model on the validation set and output the metrics for all the outputs of the model\n",
        "  - Select the metrics carefully, there are many scenarios which can change the selection of a metric\n",
        "  - Keep in mind there are multiple outputs, you would need a metric for each output\n",
        "  - [NOTE] You don't need to implement metrics for the bounding box output as it can take more time than provided for this assessment. But please add details of the metrics you would have implemented in your code-walk through loom video.\n",
        "- Update Resume Training Functionality using the best weights\n",
        "  - Current script does not have save best weights functionality\n",
        "  - The code should be able to resume training from exactly same point from where the training was stopped if model weights file is passed\n",
        "  - Keep in mind you can not resume training from same point by just loading weights of the model\n",
        "- Implement a visualize function [Most important, without this no submission will be accepted]\n",
        "  - The input of the function should be path of a folder with images and the weight file\n",
        "    - Also the output folder path to save outputs\n",
        "  - This function should return a dictionary of dictionaries with following details for each image:\n",
        "    - {\n",
        "        \"has_object\": True,\n",
        "        \"cat_or_dog\": \"cat\",\n",
        "        \"specie\": \"persian\",\n",
        "        \"xmin\": 10,\n",
        "        \"ymin\": 10,\n",
        "        \"xmax\": 10,\n",
        "        \"ymax\": 10\n",
        "    }\n",
        "  - And in case there is no object it should have 0 for bbox values, \"NA\" for \"cat_or_dog\" and \"specie\", and False for \"has_object\".\n",
        "  - Values of the returned dictionary should be like explained above and keys should be image names including the extension \".jpg\" or \".jpeg\"\n",
        "  - Should save output image with bounding box drawn on it, with same name input image but place in the output folder \n",
        "- Try to train the best model\n",
        "\n",
        "\n",
        "## Dataset Details\n",
        "The dataset has in total 1041 images. Each image has a single object which is either a cat or a dog.\n",
        "- There are multiple species for both cat and dog.\n",
        "- The number of images falling in each specie is as follows:\n",
        "  - basset_hound: 93\n",
        "  - Birman: 93\n",
        "  - pomeranian: 93\n",
        "  - american_pit_bull_terrier: 93\n",
        "  - american_bulldog: 93\n",
        "  - Abyssinian: 92\n",
        "  - beagle: 93\n",
        "  - Persian: 93\n",
        "  - chihuahua: 93\n",
        "  - empty: 142\n",
        "- The dataset has two folders:\n",
        "  - images\n",
        "    - Inside images folder we have 986 images in .jpg folder\n",
        "  - labels\n",
        "    - Inside labels folder we have 899 .xml files each file with details of image labels\n",
        "    - For any image that does not have a cat or dog, there is no corresponding xml file\n",
        "\n",
        "## Deliverable\n",
        "- Updated Colab Based Jupyter Notebook:\n",
        "  - With all the required functionality Implemented\n",
        "  - Which one can train the model without any errors\n",
        "  - One should achieve same metrics (Almost same metrics) if I run training using this collab notebook\n",
        "    - Set default values for everything accordingly in the notebook\n",
        "  - During evaluation we will just run the notebook and use the best weights the notebook saves automatically\n",
        "- Best weights you have trained\n",
        "  - We will Evaluate your weights against hold-out test we have and compare results\n",
        "  - We will use visualize function to generate outputs for each image\n",
        "  - Upload weights in an easily downloadable location like, Dropbox, Google Drive, Github, etc\n",
        "- A video code-walk through explaining your design decisions including but not limited to:\n",
        "  - Model Design which layers and activation functions you used and why\n",
        "  - Loss function, which loss functions you used and why\n",
        "  - Metrics, which metrics and why\n",
        "  - Any optimizations you have made to the codebase\n",
        "  - How you implemented resume functionality, what were the things you thought would be needed to resume training from exact same point\n",
        "\n",
        "\n",
        "## Evaluation Criteria\n",
        " - Design Decisions\n",
        " - Completeness: Did you include all features?\n",
        " - Correctness: Does the solution (all deliverables) work in sensible, thought-out ways?\n",
        " - Maintainability: Is the code written in a clean, maintainable way?\n",
        " - Testing: Is the solution adequately tested?\n",
        " - Documentation: Is the codebase well-documented and has proper steps to run any of the deliverables?\n",
        "\n",
        "## Extra Points\n",
        "- Add metrics for the Bounding Box Output\n",
        "- Any Updates in the notebook (Bugs/Implementation Mistakes etc)\n",
        "\n",
        "## How to submit\n",
        "- Please upload the Notebook for this project to GitHub, and post a link to your repository below [repo link box, on the left of submit button].\n",
        "  - Create a new GitHub repository from scratch\n",
        "  - Add the final Colab/Jupyter notebook to the repository\n",
        "- Please upload video and your final best weights on Google Drive or any other platform, and paste the link to the folder with both video and model in the text box just above the submit button.\n",
        "- Please paste the commit Id of the latest commit of your Github Repo, which should not be later than 5 hours of time when the repo was created.\n",
        "  - Please note the submission without the commit id will not be considered."
      ]
    },
    {
      "cell_type": "markdown",
      "metadata": {
        "id": "KE_rGh4kod4n"
      },
      "source": [
        "# Install Required Modules"
      ]
    },
    {
      "cell_type": "code",
      "execution_count": 70,
      "metadata": {
        "id": "magQ0ErkoOIR",
        "colab": {
          "base_uri": "https://localhost:8080/"
        },
        "outputId": "be439bd3-6b2e-4e2e-e9bd-1d013f5c0085"
      },
      "outputs": [
        {
          "output_type": "stream",
          "name": "stdout",
          "text": [
            "Looking in indexes: https://pypi.org/simple, https://us-python.pkg.dev/colab-wheels/public/simple/\n",
            "Requirement already satisfied: bs4 in /usr/local/lib/python3.10/dist-packages (0.0.1)\n",
            "Requirement already satisfied: lxml in /usr/local/lib/python3.10/dist-packages (4.9.2)\n",
            "Requirement already satisfied: kaggle in /usr/local/lib/python3.10/dist-packages (1.5.13)\n",
            "Requirement already satisfied: beautifulsoup4 in /usr/local/lib/python3.10/dist-packages (from bs4) (4.11.2)\n",
            "Requirement already satisfied: tqdm in /usr/local/lib/python3.10/dist-packages (from kaggle) (4.65.0)\n",
            "Requirement already satisfied: python-slugify in /usr/local/lib/python3.10/dist-packages (from kaggle) (8.0.1)\n",
            "Requirement already satisfied: urllib3 in /usr/local/lib/python3.10/dist-packages (from kaggle) (1.26.15)\n",
            "Requirement already satisfied: certifi in /usr/local/lib/python3.10/dist-packages (from kaggle) (2022.12.7)\n",
            "Requirement already satisfied: requests in /usr/local/lib/python3.10/dist-packages (from kaggle) (2.27.1)\n",
            "Requirement already satisfied: six>=1.10 in /usr/local/lib/python3.10/dist-packages (from kaggle) (1.16.0)\n",
            "Requirement already satisfied: python-dateutil in /usr/local/lib/python3.10/dist-packages (from kaggle) (2.8.2)\n",
            "Requirement already satisfied: soupsieve>1.2 in /usr/local/lib/python3.10/dist-packages (from beautifulsoup4->bs4) (2.4.1)\n",
            "Requirement already satisfied: text-unidecode>=1.3 in /usr/local/lib/python3.10/dist-packages (from python-slugify->kaggle) (1.3)\n",
            "Requirement already satisfied: charset-normalizer~=2.0.0 in /usr/local/lib/python3.10/dist-packages (from requests->kaggle) (2.0.12)\n",
            "Requirement already satisfied: idna<4,>=2.5 in /usr/local/lib/python3.10/dist-packages (from requests->kaggle) (3.4)\n"
          ]
        }
      ],
      "source": [
        "! pip install bs4 lxml kaggle"
      ]
    },
    {
      "cell_type": "markdown",
      "metadata": {
        "id": "Bw3F4t1eaLl6"
      },
      "source": [
        "# Download Dataset from Kaggle"
      ]
    },
    {
      "cell_type": "code",
      "execution_count": 71,
      "metadata": {
        "id": "59RSpyzRaOVj"
      },
      "outputs": [],
      "source": [
        "import os\n",
        "os.environ['KAGGLE_USERNAME'] = 'bilalyousaf0014'\n",
        "os.environ['KAGGLE_KEY'] = '11031bc21c5e3ec23585dbe17dc4267d'"
      ]
    },
    {
      "cell_type": "code",
      "execution_count": 72,
      "metadata": {
        "id": "plZEhi_oaPPn",
        "colab": {
          "base_uri": "https://localhost:8080/"
        },
        "outputId": "d6c3d9bc-9c04-4651-d590-5c95932136ff"
      },
      "outputs": [
        {
          "output_type": "stream",
          "name": "stdout",
          "text": [
            "ml-engineer-assessment-dataset.zip: Skipping, found more recently modified local copy (use --force to force download)\n"
          ]
        }
      ],
      "source": [
        "!kaggle datasets download -d bilalyousaf0014/ml-engineer-assessment-dataset"
      ]
    },
    {
      "cell_type": "code",
      "execution_count": 73,
      "metadata": {
        "id": "d6jkCK0uaxRT",
        "colab": {
          "base_uri": "https://localhost:8080/"
        },
        "outputId": "057a1e43-37c1-49cc-f4f2-86bbc2e55ce6"
      },
      "outputs": [
        {
          "output_type": "stream",
          "name": "stdout",
          "text": [
            "Archive:  /content/ml-engineer-assessment-dataset.zip\n",
            "caution: filename not matched:  -y\n"
          ]
        }
      ],
      "source": [
        "! unzip /content/ml-engineer-assessment-dataset.zip -y"
      ]
    },
    {
      "cell_type": "markdown",
      "metadata": {
        "id": "PMEbUqsPl9s4"
      },
      "source": [
        "# MODEL IMPLEMENTATION:"
      ]
    },
    {
      "cell_type": "code",
      "execution_count": 74,
      "metadata": {
        "id": "uXb6eKgFmNzx"
      },
      "outputs": [],
      "source": [
        "import os\n",
        "import torch\n",
        "import torch.nn as nn\n",
        "import numpy as np\n",
        "\n",
        "from torchvision.models import resnet18, ResNet18_Weights"
      ]
    },
    {
      "cell_type": "code",
      "execution_count": 75,
      "metadata": {
        "id": "BtSgG4OklRte"
      },
      "outputs": [],
      "source": [
        "class Model(nn.Module):\n",
        "\n",
        "  def __init__(self):\n",
        "    super(Model, self).__init__()\n",
        "    pretrained_model = resnet18(weights=ResNet18_Weights.DEFAULT)\n",
        "    self.backbone = nn.Sequential(*list(pretrained_model.children())[:-2])\n",
        "    \n",
        "    ### Initialize the required Layers\n",
        "    self.have_object =  nn.Linear(512, 1)\n",
        "    self.cat_or_dog = nn.Linear(512, 2)\n",
        "    self.specie = nn.Linear(512, 9)\n",
        "    self.bbox = nn.Linear(512, 4)\n",
        "    ### Initialize the required Layers\n",
        "    self.sigmoid = nn.Sigmoid()\n",
        "\n",
        "  def forward(self, input):\n",
        "\n",
        "    out_backbone = self.backbone(input)\n",
        "    out_backbone = out_backbone.view(out_backbone.size(0), -1)\n",
        "    ### Write Forward Calls for the Model\n",
        "    # Object detection\n",
        "    object_output = self.sigmoid(self.have_object(out_backbone))\n",
        "    bbox_output = self.bbox(out_backbone)\n",
        "\n",
        "    # Species classification\n",
        "    specie_output = nn.functional.log_softmax(self.specie(out_backbone), dim=1)\n",
        "\n",
        "    # Cat/Dog classification\n",
        "    cat_or_dog_output = nn.functional.log_softmax(self.cat_or_dog(out_backbone), dim=1)\n",
        "    return {\n",
        "          \"bbox\": bbox_output,\n",
        "          \"object\": object_output,\n",
        "          \"cat_or_dog\": cat_or_dog_output,\n",
        "          \"specie\": specie_output\n",
        "      }\n",
        "\n"
      ]
    },
    {
      "cell_type": "markdown",
      "metadata": {
        "id": "avxCQ2W-oGxV"
      },
      "source": [
        "# CUSTOM DATALOADER IMPLEMENTATION"
      ]
    },
    {
      "cell_type": "code",
      "execution_count": 76,
      "metadata": {
        "id": "ZNds6zOg8w5A"
      },
      "outputs": [],
      "source": [
        "train_list = np.load('/content/assessment_dataset/train_list.npy', allow_pickle=True).tolist()\n",
        "val_list = np.load('/content/assessment_dataset/val_list.npy', allow_pickle=True).tolist()"
      ]
    },
    {
      "cell_type": "code",
      "execution_count": 77,
      "metadata": {
        "id": "E30zu6ICmKOL"
      },
      "outputs": [],
      "source": [
        "from bs4 import BeautifulSoup\n",
        "\n",
        "def read_xml_file(path):\n",
        "  try:\n",
        "    with open(path, 'r') as f:\n",
        "      data = f.read()\n",
        "    \n",
        "    bs_data = BeautifulSoup(data, 'xml')\n",
        "    return {\n",
        "      \"cat_or_dog\": bs_data.find(\"name\").text,\n",
        "      \"xmin\": int(bs_data.find(\"xmin\").text),\n",
        "      \"ymin\": int(bs_data.find(\"ymin\").text),\n",
        "      \"xmax\": int(bs_data.find(\"xmax\").text),\n",
        "      \"ymax\": int(bs_data.find(\"ymax\").text),\n",
        "      \"specie\": \"_\".join(path.split(os.sep)[-1].split(\"_\")[:-1])\n",
        "  }\n",
        "  except FileNotFoundError:\n",
        "    print(f\"File {path} not found.\")\n",
        "    return None\n",
        "\n",
        "\n",
        "def preprocess(image):\n",
        "    transform = transforms.Compose([\n",
        "        transforms.Resize((224, 224)),\n",
        "        transforms.ToTensor(),\n",
        "        transforms.Normalize((0.5, 0.5, 0.5), (0.5, 0.5, 0.5))\n",
        "    ])\n",
        "    return transform(image)"
      ]
    },
    {
      "cell_type": "code",
      "execution_count": 78,
      "metadata": {
        "id": "z16n7BbnoviB"
      },
      "outputs": [],
      "source": [
        "from PIL import Image\n",
        "\n",
        "import torchvision.transforms as transforms\n",
        "\n",
        "\n",
        "# class CustomDataset(torch.utils.data.Dataset):\n",
        "\n",
        "#     def __init__(self, dataset_path, images_list, train=False):\n",
        "#         self.labels = []\n",
        "#         self.preprocess = preprocess\n",
        "\n",
        "#         image_folder_path = os.path.join(dataset_path, \"images\")\n",
        "#         label_folder_path = os.path.join(dataset_path, \"labels\")\n",
        "\n",
        "#         for path in os.listdir(image_folder_path):\n",
        "#             name = path.split(os.sep)[-1].split(\".\")[0]\n",
        "#             if name in images_list:\n",
        "#                 xml_path = os.path.join(label_folder_path, name+\".xml\")\n",
        "#                 xml_data = read_xml_file(xml_path)\n",
        "#                 self.labels.append(xml_data)\n",
        "\n",
        "#     def __len__(self):\n",
        "#         return len(self.labels)\n",
        "\n",
        "#     def __getitem__(self, index):\n",
        "\n",
        "#       sample= self.labels[index]\n",
        "#       if 'image_path' not in sample:\n",
        "#         raise KeyError(f\"'image_path' key is missing from the dictionary for index {index}\")\n",
        "       \n",
        "#       image_path = self.labels[index]['image_path']\n",
        "#       image = Image.open(image_path).convert('RGB')\n",
        "#       image = self.preprocess(image)\n",
        "#       label = self.labels[index]\n",
        "#       return image, label\n",
        "\n",
        "  \n",
        "class CustomDataset(torch.utils.data.Dataset):\n",
        "    def __init__(self, root, images_list, preprocess=None):\n",
        "        self.root = root\n",
        "        self.images_list = images_list\n",
        "        self.preprocess = preprocess\n",
        "        \n",
        "        self.labels = []\n",
        "        for img_file in self.images_list:\n",
        "            label_file = os.path.join(self.root, 'labels', img_file.split('.')[0]+'.xml')\n",
        "            if not os.path.exists(label_file):\n",
        "                continue  # skip images with missing label files\n",
        "            label = read_xml_file(label_file)\n",
        "            if label is None or 'object' not in label:\n",
        "                continue  # skip images with missing or incomplete label data\n",
        "            self.labels.append(label)\n",
        "\n",
        "    def __len__(self):\n",
        "        return len(self.labels)\n",
        "\n",
        "    def __getitem__(self, index):\n",
        "        sample = self.labels[index]\n",
        "        while 'image_path' not in sample:  # handle missing 'image_path' keys\n",
        "            index = (index + 1) % len(self)\n",
        "            sample = self.labels[index]\n",
        "        image_path = sample['image_path']\n",
        "        image = Image.open(os.path.join(self.root, 'images', image_path)).convert('RGB')\n",
        "        if self.preprocess is not None:\n",
        "            image = self.preprocess(image)\n",
        "        return image, sample\n",
        "\n",
        "\n",
        "\n",
        "# class CustomDataset(torch.utils.data.Dataset):\n",
        "#     def __init__(self, root_dir, transforms=None):\n",
        "#         self.root_dir = root_dir\n",
        "#         self.transforms = transforms\n",
        "\n",
        "#         self.labels = []\n",
        "#         for xml_file in os.listdir(os.path.join(self.root_dir, 'labels')):\n",
        "#             try:\n",
        "#                 sample = read_xml_file(os.path.join(self.root_dir, 'labels', xml_file))\n",
        "#                 self.labels.append(sample)\n",
        "#             except Exception as e:\n",
        "#                 print(f\"Error reading {xml_file}: {e}\")\n",
        "                \n",
        "#         print(f\"Number of samples: {len(self.labels)}\") # debug print\n",
        "\n",
        "#     def __len__(self):\n",
        "#         return len(self.labels)\n",
        "\n",
        "#     def __getitem__(self, index):\n",
        "#         sample = self.labels[index]\n",
        "#         if sample is None or 'image_path' not in sample:\n",
        "#             raise KeyError(f\"'image_path' key is missing from the dictionary for index {index}\")\n",
        "\n",
        "#         image_path = sample['image_path']\n",
        "#         image = Image.open(image_path).convert('RGB')\n",
        "#         if self.transforms is not None:\n",
        "#             image = self.transforms(image)\n",
        "#         return image, sample\n"
      ]
    },
    {
      "cell_type": "markdown",
      "metadata": {
        "id": "hkbn3C3cqahY"
      },
      "source": [
        "# TRAINING LOOP IMPLEMENTATION"
      ]
    },
    {
      "cell_type": "markdown",
      "metadata": {
        "id": "SxODf-DLqmPA"
      },
      "source": [
        "## Initializations"
      ]
    },
    {
      "cell_type": "code",
      "execution_count": 79,
      "metadata": {
        "id": "Drkrrx8pqjzM"
      },
      "outputs": [],
      "source": [
        "from torch.utils.data import DataLoader"
      ]
    },
    {
      "cell_type": "code",
      "source": [
        "# !pip install torchmetrics"
      ],
      "metadata": {
        "id": "7ETMDZzJPtx2"
      },
      "execution_count": 80,
      "outputs": []
    },
    {
      "cell_type": "code",
      "execution_count": 81,
      "metadata": {
        "id": "1k8jvr7EqaPz"
      },
      "outputs": [],
      "source": [
        "# import our library\n",
        "import torchmetrics\n",
        "\n",
        "def train(epochs, model_weights):\n",
        "\n",
        "  # Initialize Model and Optimizer\n",
        "  model = Model()\n",
        "  optimizer = torch.optim.Adam(model.parameters(), lr=0.001)\n",
        "\n",
        "  # Initialize Loss Functions\n",
        "  have_object_loss = nn.BCELoss()\n",
        "  specie_loss = nn.CrossEntropyLoss()\n",
        "  cat_or_dog_loss = nn.CrossEntropyLoss()\n",
        "  bbox_loss = nn.MSELoss() # Not necessary you need to apply function to all coordinates together, You can have separete loss functions for all coordinates too\n",
        "  # Below or Above\n",
        "  xmin_loss = nn.MSELoss()\n",
        "  ymin_loss = nn.MSELoss()\n",
        "  xmax_loss = nn.MSELoss()\n",
        "  ymax_loss = nn.MSELoss()\n",
        "\n",
        "  batch_size = 32\n",
        "  training_dataset = CustomDataset(\"/content/assessment_dataset\", images_list=train_list)\n",
        "  training_loader = DataLoader(training_dataset, batch_size=batch_size, shuffle=True)\n",
        "\n",
        "  if torch.cuda.is_available():\n",
        "    model = model.cuda()\n",
        "\n",
        "  def train_one_epoch(epoch_index, tb_writer):\n",
        "      running_loss = 0.\n",
        "      last_loss = 0.\n",
        "\n",
        "      # Here, we use enumerate(training_loader) instead of\n",
        "      # iter(training_loader) so that we can track the batch\n",
        "      # index and do some intra-epoch reporting\n",
        "      for i, data in enumerate(training_loader):\n",
        "          # Every data instance is an input + label pair\n",
        "          inputs, labels = data\n",
        "\n",
        "          # Make predictions for this batch\n",
        "          outputs = model(inputs)\n",
        "\n",
        "          # Compute the loss and its gradients\n",
        "          loss_have_object = have_object_loss(outputs[\"object\"], None)\n",
        "          loss_specie = specie_loss(outputs[\"specie\"], None)\n",
        "          loss_cat_or_dog = cat_or_dog_loss(outputs[\"cat_or_dog\"], None)\n",
        "          \n",
        "          loss_bbox = bbox_loss(outputs[\"bbox\"], None)\n",
        "          # Above or Below\n",
        "          loss_xmin = xmin_loss(outputs[\"bbox\"], None)\n",
        "          loss_ymin = ymin_loss(outputs[\"bbox\"], None)\n",
        "          loss_xmax = xmax_loss(outputs[\"bbox\"], None)\n",
        "          loss_ymax = ymax_loss(outputs[\"bbox\"], None)\n",
        "\n",
        "          loss =  loss = loss_have_object + loss_specie + loss_cat_or_dog + \\\n",
        "               loss_bbox + loss_xmin + loss_ymin + loss_xmax + loss_ymax # Consolidate all individual losses\n",
        "\n",
        "          # Gather data and report\n",
        "          running_loss += loss.item()\n",
        "          if i % 10 == 0:\n",
        "              last_loss = running_loss / 10 # loss per batch\n",
        "              running_loss = 0.\n",
        "      return last_loss\n",
        "\n",
        "\n",
        "  for i in range(epochs):\n",
        "\n",
        "    epoch_loss = train_one_epoch(i, None)\n",
        "    print(f' Epoch {i} Loss : {epoch_loss}')\n",
        "\n",
        "    # torch.save(\"model.pth\", model.state_dict())\n",
        "    torch.save(model.state_dict(), \"model.pth\")\n",
        "    metrics = test(model)\n",
        "    print(metrics)\n",
        "\n",
        "def test(model, val_list):\n",
        "  def post_process_object(x):\n",
        "    return x\n",
        "\n",
        "  def post_process_cat_or_dog(x):\n",
        "    return x\n",
        "\n",
        "  def post_process_specie(x):\n",
        "    return x\n",
        "\n",
        "  def post_process_bbox(x):\n",
        "    return x\n",
        "  \n",
        "  batch_size = 32\n",
        "  val_dataset = CustomDataset(\"/content/assessment_dataset\", images_list=val_list)\n",
        "  val_loader = DataLoader(val_dataset, batch_size=batch_size, shuffle=False)\n",
        "\n",
        "\n",
        "  metric_object = torchmetrics.MeanSquaredError()\n",
        "  metric_cat_or_dog = torchmetrics.Accuracy()\n",
        "  metric_specie = torchmetrics.Accuracy()\n",
        "  metric_bbox = torchmetrics.MeanSquaredError()\n",
        "\n",
        "  for i, data in enumerate(val_loader):\n",
        "    \n",
        "    inputs, labels = data\n",
        "\n",
        "    # Make predictions for this batch\n",
        "    outputs = model(inputs)\n",
        "\n",
        "    # Post-process the predictions\n",
        "    outputs[\"object\"] = post_process_object(outputs[\"object\"])\n",
        "    outputs[\"cat_or_dog\"] = post_process_cat_or_dog(outputs[\"cat_or_dog\"])\n",
        "    outputs[\"specie\"] = post_process_specie(outputs[\"specie\"])\n",
        "    outputs[\"bbox\"] = post_process_bbox(outputs[\"bbox\"])\n",
        "\n",
        "    # Compute the metrics for this batch\n",
        "    metric_object.update(outputs[\"object\"], labels[\"object\"])\n",
        "    metric_cat_or_dog.update(outputs[\"cat_or_dog\"], labels[\"cat_or_dog\"])\n",
        "    metric_specie.update(outputs[\"specie\"], labels[\"specie\"])\n",
        "    metric_bbox.update(outputs[\"bbox\"], labels[\"bbox\"])\n",
        "\n",
        "     # Gather scores and report\n",
        "    if i == 0:\n",
        "      scores_object = score_object\n",
        "      scores_cat_or_dog = score_cat_or_dog\n",
        "      scores_specie = score_specie\n",
        "      scores_bbox = score_bbox\n",
        "    else:\n",
        "      scores_object += score_object\n",
        "      scores_cat_or_dog += score_cat_or_dog\n",
        "      scores_specie += score_specie\n",
        "      scores_bbox += score_bbox\n",
        "\n",
        "  score_object = metric_object.compute()\n",
        "  score_cat_or_dog = metric_cat_or_dog.compute()\n",
        "  score_specie = metric_specie.compute()\n",
        "  score_bbox = metric_bbox.compute()\n",
        "\n",
        "  return score_object, score_cat_or_dog, score_specie, score_bbox"
      ]
    },
    {
      "cell_type": "code",
      "execution_count": 85,
      "metadata": {
        "id": "8TgRVGPDaUAd"
      },
      "outputs": [],
      "source": []
    },
    {
      "cell_type": "code",
      "execution_count": 83,
      "metadata": {
        "id": "u7npVwns6LU6"
      },
      "outputs": [],
      "source": [
        "from PIL import ImageDraw\n",
        "\n",
        "def visualize(model_weights, image_folder_path, output_folder=\"output\"):\n",
        "\n",
        "    # Load the model\n",
        "    model = Model()\n",
        "    model.load_state_dict(torch.load(model_weights))\n",
        "\n",
        "    # Load the image\n",
        "    image_path = os.path.join(image_folder_path, image_name + \".jpg\")\n",
        "    if not os.path.exists(image_path):\n",
        "        image_path = os.path.join(image_folder_path, image_name + \".jpeg\")\n",
        "    image = Image.open(image_path)\n",
        "\n",
        "    # Preprocess the image\n",
        "    inputs = preprocess(image)\n",
        "\n",
        "    # Make predictions\n",
        "    outputs = model(inputs)\n",
        "\n",
        "    # Postprocess the predictions\n",
        "    post_process_object = post_process_object(outputs)  # postprocessing function for object detection\n",
        "    post_process_specie = post_process_specie(outputs)  #  postprocessing function for species classification\n",
        "    post_process_cat_or_dog = post_process_cat_or_dog(outputs)  #  postprocessing function for cat/dog classification\n",
        "    post_process_bbox = post_process_bbox(outputs)  #  postprocessing function for bounding boxes\n",
        "    objects, species, cat_or_dog, bboxes = \\\n",
        "        post_process_object(outputs[\"object\"]), \\\n",
        "        post_process_specie(outputs[\"specie\"]), \\\n",
        "        post_process_cat_or_dog(outputs[\"cat_or_dog\"]), \\\n",
        "        post_process_bbox(outputs[\"bbox\"])\n",
        "\n",
        "    # Draw the bounding boxes on the image\n",
        "    draw = ImageDraw.Draw(image)\n",
        "    for i in range(len(objects)):\n",
        "        if cat_or_dog[i] == \"cat\":\n",
        "            color = \"green\"\n",
        "        elif cat_or_dog[i] == \"dog\":\n",
        "            color = \"red\"\n",
        "        else:\n",
        "            color = \"blue\"\n",
        "        draw.rectangle(bboxes[i], outline=color, width=2)\n",
        "        draw.text((bboxes[i][0], bboxes[i][1] - 15), species[i], fill=color)\n",
        "\n",
        "    # Save the image\n",
        "    os.makedirs(output_folder, exist_ok=True)\n",
        "    output_path = os.path.join(output_folder, image_name + \"_output.jpg\")\n",
        "    image.save(output_path)\n",
        "\n",
        "    return {\"objects\": objects, \"species\": species, \"cat_or_dog\": cat_or_dog, \"bboxes\": bboxes}\n"
      ]
    },
    {
      "cell_type": "code",
      "source": [
        "train(5, \"model_weights.pth\")"
      ],
      "metadata": {
        "colab": {
          "base_uri": "https://localhost:8080/",
          "height": 328
        },
        "id": "mlLFqZDIQhpA",
        "outputId": "cf5cfffa-0051-4910-aad6-e3af56253922"
      },
      "execution_count": 85,
      "outputs": [
        {
          "output_type": "error",
          "ename": "ValueError",
          "evalue": "ignored",
          "traceback": [
            "\u001b[0;31m---------------------------------------------------------------------------\u001b[0m",
            "\u001b[0;31mValueError\u001b[0m                                Traceback (most recent call last)",
            "\u001b[0;32m<ipython-input-85-ec9325330be8>\u001b[0m in \u001b[0;36m<cell line: 1>\u001b[0;34m()\u001b[0m\n\u001b[0;32m----> 1\u001b[0;31m \u001b[0mtrain\u001b[0m\u001b[0;34m(\u001b[0m\u001b[0;36m5\u001b[0m\u001b[0;34m,\u001b[0m \u001b[0;34m\"model_weights.pth\"\u001b[0m\u001b[0;34m)\u001b[0m\u001b[0;34m\u001b[0m\u001b[0;34m\u001b[0m\u001b[0m\n\u001b[0m",
            "\u001b[0;32m<ipython-input-81-37c7dc60fc51>\u001b[0m in \u001b[0;36mtrain\u001b[0;34m(epochs, model_weights)\u001b[0m\n\u001b[1;32m     21\u001b[0m   \u001b[0mbatch_size\u001b[0m \u001b[0;34m=\u001b[0m \u001b[0;36m32\u001b[0m\u001b[0;34m\u001b[0m\u001b[0;34m\u001b[0m\u001b[0m\n\u001b[1;32m     22\u001b[0m   \u001b[0mtraining_dataset\u001b[0m \u001b[0;34m=\u001b[0m \u001b[0mCustomDataset\u001b[0m\u001b[0;34m(\u001b[0m\u001b[0;34m\"/content/assessment_dataset\"\u001b[0m\u001b[0;34m,\u001b[0m \u001b[0mimages_list\u001b[0m\u001b[0;34m=\u001b[0m\u001b[0mtrain_list\u001b[0m\u001b[0;34m)\u001b[0m\u001b[0;34m\u001b[0m\u001b[0;34m\u001b[0m\u001b[0m\n\u001b[0;32m---> 23\u001b[0;31m   \u001b[0mtraining_loader\u001b[0m \u001b[0;34m=\u001b[0m \u001b[0mDataLoader\u001b[0m\u001b[0;34m(\u001b[0m\u001b[0mtraining_dataset\u001b[0m\u001b[0;34m,\u001b[0m \u001b[0mbatch_size\u001b[0m\u001b[0;34m=\u001b[0m\u001b[0mbatch_size\u001b[0m\u001b[0;34m,\u001b[0m \u001b[0mshuffle\u001b[0m\u001b[0;34m=\u001b[0m\u001b[0;32mTrue\u001b[0m\u001b[0;34m)\u001b[0m\u001b[0;34m\u001b[0m\u001b[0;34m\u001b[0m\u001b[0m\n\u001b[0m\u001b[1;32m     24\u001b[0m \u001b[0;34m\u001b[0m\u001b[0m\n\u001b[1;32m     25\u001b[0m   \u001b[0;32mif\u001b[0m \u001b[0mtorch\u001b[0m\u001b[0;34m.\u001b[0m\u001b[0mcuda\u001b[0m\u001b[0;34m.\u001b[0m\u001b[0mis_available\u001b[0m\u001b[0;34m(\u001b[0m\u001b[0;34m)\u001b[0m\u001b[0;34m:\u001b[0m\u001b[0;34m\u001b[0m\u001b[0;34m\u001b[0m\u001b[0m\n",
            "\u001b[0;32m/usr/local/lib/python3.10/dist-packages/torch/utils/data/dataloader.py\u001b[0m in \u001b[0;36m__init__\u001b[0;34m(self, dataset, batch_size, shuffle, sampler, batch_sampler, num_workers, collate_fn, pin_memory, drop_last, timeout, worker_init_fn, multiprocessing_context, generator, prefetch_factor, persistent_workers, pin_memory_device)\u001b[0m\n\u001b[1;32m    349\u001b[0m             \u001b[0;32melse\u001b[0m\u001b[0;34m:\u001b[0m  \u001b[0;31m# map-style\u001b[0m\u001b[0;34m\u001b[0m\u001b[0;34m\u001b[0m\u001b[0m\n\u001b[1;32m    350\u001b[0m                 \u001b[0;32mif\u001b[0m \u001b[0mshuffle\u001b[0m\u001b[0;34m:\u001b[0m\u001b[0;34m\u001b[0m\u001b[0;34m\u001b[0m\u001b[0m\n\u001b[0;32m--> 351\u001b[0;31m                     \u001b[0msampler\u001b[0m \u001b[0;34m=\u001b[0m \u001b[0mRandomSampler\u001b[0m\u001b[0;34m(\u001b[0m\u001b[0mdataset\u001b[0m\u001b[0;34m,\u001b[0m \u001b[0mgenerator\u001b[0m\u001b[0;34m=\u001b[0m\u001b[0mgenerator\u001b[0m\u001b[0;34m)\u001b[0m  \u001b[0;31m# type: ignore[arg-type]\u001b[0m\u001b[0;34m\u001b[0m\u001b[0;34m\u001b[0m\u001b[0m\n\u001b[0m\u001b[1;32m    352\u001b[0m                 \u001b[0;32melse\u001b[0m\u001b[0;34m:\u001b[0m\u001b[0;34m\u001b[0m\u001b[0;34m\u001b[0m\u001b[0m\n\u001b[1;32m    353\u001b[0m                     \u001b[0msampler\u001b[0m \u001b[0;34m=\u001b[0m \u001b[0mSequentialSampler\u001b[0m\u001b[0;34m(\u001b[0m\u001b[0mdataset\u001b[0m\u001b[0;34m)\u001b[0m  \u001b[0;31m# type: ignore[arg-type]\u001b[0m\u001b[0;34m\u001b[0m\u001b[0;34m\u001b[0m\u001b[0m\n",
            "\u001b[0;32m/usr/local/lib/python3.10/dist-packages/torch/utils/data/sampler.py\u001b[0m in \u001b[0;36m__init__\u001b[0;34m(self, data_source, replacement, num_samples, generator)\u001b[0m\n\u001b[1;32m    105\u001b[0m \u001b[0;34m\u001b[0m\u001b[0m\n\u001b[1;32m    106\u001b[0m         \u001b[0;32mif\u001b[0m \u001b[0;32mnot\u001b[0m \u001b[0misinstance\u001b[0m\u001b[0;34m(\u001b[0m\u001b[0mself\u001b[0m\u001b[0;34m.\u001b[0m\u001b[0mnum_samples\u001b[0m\u001b[0;34m,\u001b[0m \u001b[0mint\u001b[0m\u001b[0;34m)\u001b[0m \u001b[0;32mor\u001b[0m \u001b[0mself\u001b[0m\u001b[0;34m.\u001b[0m\u001b[0mnum_samples\u001b[0m \u001b[0;34m<=\u001b[0m \u001b[0;36m0\u001b[0m\u001b[0;34m:\u001b[0m\u001b[0;34m\u001b[0m\u001b[0;34m\u001b[0m\u001b[0m\n\u001b[0;32m--> 107\u001b[0;31m             raise ValueError(\"num_samples should be a positive integer \"\n\u001b[0m\u001b[1;32m    108\u001b[0m                              \"value, but got num_samples={}\".format(self.num_samples))\n\u001b[1;32m    109\u001b[0m \u001b[0;34m\u001b[0m\u001b[0m\n",
            "\u001b[0;31mValueError\u001b[0m: num_samples should be a positive integer value, but got num_samples=0"
          ]
        }
      ]
    },
    {
      "cell_type": "code",
      "source": [
        "# test(model, val_list)"
      ],
      "metadata": {
        "id": "cYdrrotuSPob"
      },
      "execution_count": null,
      "outputs": []
    },
    {
      "cell_type": "code",
      "source": [
        "visualize(\"model_weights.pth\", \"/content/assessment_dataset/images\", \"output\")\n"
      ],
      "metadata": {
        "id": "v4_W0AZdSdv6"
      },
      "execution_count": null,
      "outputs": []
    },
    {
      "cell_type": "code",
      "source": [],
      "metadata": {
        "id": "-F6sDbklSiiO"
      },
      "execution_count": null,
      "outputs": []
    }
  ],
  "metadata": {
    "accelerator": "GPU",
    "colab": {
      "provenance": [],
      "gpuType": "T4"
    },
    "gpuClass": "standard",
    "kernelspec": {
      "display_name": "Python 3",
      "name": "python3"
    },
    "language_info": {
      "name": "python"
    }
  },
  "nbformat": 4,
  "nbformat_minor": 0
}